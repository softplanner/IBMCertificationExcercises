{
 "cells": [
  {
   "cell_type": "code",
   "execution_count": 9,
   "metadata": {},
   "outputs": [
    {
     "name": "stdout",
     "output_type": "stream",
     "text": [
      "Requirement already satisfied: ipython-sql in c:\\users\\softp\\appdata\\local\\programs\\python\\python311\\lib\\site-packages (0.5.0)\n",
      "Requirement already satisfied: prettytable in c:\\users\\softp\\appdata\\local\\programs\\python\\python311\\lib\\site-packages (3.16.0)\n",
      "Requirement already satisfied: ipython in c:\\users\\softp\\appdata\\roaming\\python\\python311\\site-packages (from ipython-sql) (8.32.0)\n",
      "Requirement already satisfied: sqlalchemy>=2.0 in c:\\users\\softp\\appdata\\roaming\\python\\python311\\site-packages (from ipython-sql) (2.0.40)\n",
      "Requirement already satisfied: sqlparse in c:\\users\\softp\\appdata\\local\\programs\\python\\python311\\lib\\site-packages (from ipython-sql) (0.5.3)\n",
      "Requirement already satisfied: six in c:\\users\\softp\\appdata\\local\\programs\\python\\python311\\lib\\site-packages (from ipython-sql) (1.16.0)\n",
      "Requirement already satisfied: ipython-genutils in c:\\users\\softp\\appdata\\local\\programs\\python\\python311\\lib\\site-packages (from ipython-sql) (0.2.0)\n",
      "Requirement already satisfied: wcwidth in c:\\users\\softp\\appdata\\roaming\\python\\python311\\site-packages (from prettytable) (0.2.13)\n",
      "Requirement already satisfied: greenlet>=1 in c:\\users\\softp\\appdata\\roaming\\python\\python311\\site-packages (from sqlalchemy>=2.0->ipython-sql) (3.1.1)\n",
      "Requirement already satisfied: typing-extensions>=4.6.0 in c:\\users\\softp\\appdata\\roaming\\python\\python311\\site-packages (from sqlalchemy>=2.0->ipython-sql) (4.12.2)\n",
      "Requirement already satisfied: colorama in c:\\users\\softp\\appdata\\roaming\\python\\python311\\site-packages (from ipython->ipython-sql) (0.4.6)\n",
      "Requirement already satisfied: decorator in c:\\users\\softp\\appdata\\roaming\\python\\python311\\site-packages (from ipython->ipython-sql) (5.1.1)\n",
      "Requirement already satisfied: jedi>=0.16 in c:\\users\\softp\\appdata\\roaming\\python\\python311\\site-packages (from ipython->ipython-sql) (0.19.2)\n",
      "Requirement already satisfied: matplotlib-inline in c:\\users\\softp\\appdata\\roaming\\python\\python311\\site-packages (from ipython->ipython-sql) (0.1.7)\n",
      "Requirement already satisfied: prompt_toolkit<3.1.0,>=3.0.41 in c:\\users\\softp\\appdata\\roaming\\python\\python311\\site-packages (from ipython->ipython-sql) (3.0.50)\n",
      "Requirement already satisfied: pygments>=2.4.0 in c:\\users\\softp\\appdata\\roaming\\python\\python311\\site-packages (from ipython->ipython-sql) (2.19.1)\n",
      "Requirement already satisfied: stack_data in c:\\users\\softp\\appdata\\roaming\\python\\python311\\site-packages (from ipython->ipython-sql) (0.6.3)\n",
      "Requirement already satisfied: traitlets>=5.13.0 in c:\\users\\softp\\appdata\\roaming\\python\\python311\\site-packages (from ipython->ipython-sql) (5.14.3)\n",
      "Requirement already satisfied: parso<0.9.0,>=0.8.4 in c:\\users\\softp\\appdata\\roaming\\python\\python311\\site-packages (from jedi>=0.16->ipython->ipython-sql) (0.8.4)\n",
      "Requirement already satisfied: executing>=1.2.0 in c:\\users\\softp\\appdata\\roaming\\python\\python311\\site-packages (from stack_data->ipython->ipython-sql) (2.2.0)\n",
      "Requirement already satisfied: asttokens>=2.1.0 in c:\\users\\softp\\appdata\\roaming\\python\\python311\\site-packages (from stack_data->ipython->ipython-sql) (3.0.0)\n",
      "Requirement already satisfied: pure-eval in c:\\users\\softp\\appdata\\roaming\\python\\python311\\site-packages (from stack_data->ipython->ipython-sql) (0.2.3)\n"
     ]
    }
   ],
   "source": [
    "!pip install ipython-sql prettytable\n",
    "\n",
    "import prettytable\n",
    "\n",
    "prettytable.DEFAULT = 'DEFAULT'"
   ]
  },
  {
   "cell_type": "code",
   "execution_count": 14,
   "metadata": {},
   "outputs": [
    {
     "name": "stdout",
     "output_type": "stream",
     "text": [
      "The sql extension is already loaded. To reload it, use:\n",
      "  %reload_ext sql\n"
     ]
    }
   ],
   "source": [
    "# Load the SQL magic\n",
    "%load_ext sql"
   ]
  },
  {
   "cell_type": "code",
   "execution_count": 15,
   "metadata": {},
   "outputs": [],
   "source": [
    "# Connect to a SQLite database (will create if not exists)\n",
    "%sql sqlite:///chicago_data.db"
   ]
  },
  {
   "cell_type": "code",
   "execution_count": 19,
   "metadata": {},
   "outputs": [
    {
     "name": "stdout",
     "output_type": "stream",
     "text": [
      "SQL script executed successfully.\n"
     ]
    }
   ],
   "source": [
    "import sqlite3\n",
    "\n",
    "# Connect to SQLite database\n",
    "conn = sqlite3.connect('chicago_data.db')\n",
    "cursor = conn.cursor()\n",
    "\n",
    "# Load and filter SQL script\n",
    "with open(\"chicago_socioeconomic_data.sql\", \"r\") as f:\n",
    "    sql_script = f.read()\n",
    "\n",
    "# Clean comments and MySQL-specific commands\n",
    "cleaned_statements = []\n",
    "for stmt in sql_script.split(';'):\n",
    "    stmt = stmt.strip()\n",
    "    if (not stmt or \n",
    "        stmt.startswith('--') or \n",
    "        stmt.upper().startswith('SET ') or \n",
    "        stmt.upper().startswith('CREATE DATABASE') or \n",
    "        stmt.upper().startswith('START TRANSACTION') or \n",
    "        stmt.upper().startswith('COMMIT')):\n",
    "        continue\n",
    "    cleaned_statements.append(stmt)\n",
    "\n",
    "\n",
    "# Execute statements\n",
    "for stmt in cleaned_statements:\n",
    "    try:\n",
    "        cursor.execute(stmt)\n",
    "    except sqlite3.Error as e:\n",
    "        print(f\"Error executing statement:\\n{stmt}\\nError: {e}\")\n",
    "\n",
    "conn.commit()\n",
    "conn.close()\n",
    "print(\"SQL script executed successfully.\")\n"
   ]
  },
  {
   "cell_type": "code",
   "execution_count": null,
   "metadata": {},
   "outputs": [],
   "source": [
    "# Connect to SQLite database\n",
    "conn = sqlite3.connect('chicago_data.db')\n",
    "cursor = conn.cursor()\n",
    "\n",
    "# Load and filter SQL script\n",
    "with open(\"chicago_public_schools.sql\", \"r\") as f:\n",
    "    sql_script = f.read()\n",
    "\n",
    "# Clean comments and MySQL-specific commands\n",
    "cleaned_statements = []\n",
    "for stmt in sql_script.split(';'):\n",
    "    stmt = stmt.strip()\n",
    "    if (not stmt or \n",
    "        stmt.startswith('--') or \n",
    "        stmt.upper().startswith('SET ') or \n",
    "        stmt.upper().startswith('CREATE DATABASE') or \n",
    "        stmt.upper().startswith('START TRANSACTION') or \n",
    "        stmt.upper().startswith('COMMIT')):\n",
    "        continue\n",
    "    cleaned_statements.append(stmt)\n",
    "\n",
    "\n",
    "# Execute statements\n",
    "for stmt in cleaned_statements:\n",
    "    try:\n",
    "        cursor.execute(stmt)\n",
    "    except sqlite3.Error as e:\n",
    "        print(f\"Error executing statement:\\n{stmt}\\nError: {e}\")\n",
    "\n",
    "conn.commit()\n",
    "conn.close()\n",
    "print(\"SQL script executed successfully.\")\n"
   ]
  },
  {
   "cell_type": "code",
   "execution_count": null,
   "metadata": {},
   "outputs": [],
   "source": [
    "# Connect to SQLite database\n",
    "conn = sqlite3.connect('chicago_data.db')\n",
    "cursor = conn.cursor()\n",
    "\n",
    "# Load and filter SQL script\n",
    "with open(\"chicago_crime.sql\", \"r\") as f:\n",
    "    sql_script = f.read()\n",
    "\n",
    "# Clean comments and MySQL-specific commands\n",
    "cleaned_statements = []\n",
    "for stmt in sql_script.split(';'):\n",
    "    stmt = stmt.strip()\n",
    "    if (not stmt or \n",
    "        stmt.startswith('--') or \n",
    "        stmt.upper().startswith('SET ') or \n",
    "        stmt.upper().startswith('CREATE DATABASE') or \n",
    "        stmt.upper().startswith('START TRANSACTION') or \n",
    "        stmt.upper().startswith('COMMIT')):\n",
    "        continue\n",
    "    cleaned_statements.append(stmt)\n",
    "\n",
    "\n",
    "# Execute statements\n",
    "for stmt in cleaned_statements:\n",
    "    try:\n",
    "        cursor.execute(stmt)\n",
    "    except sqlite3.Error as e:\n",
    "        print(f\"Error executing statement:\\n{stmt}\\nError: {e}\")\n",
    "\n",
    "conn.commit()\n",
    "conn.close()\n",
    "print(\"SQL script executed successfully.\")\n"
   ]
  }
 ],
 "metadata": {
  "kernelspec": {
   "display_name": "Python 3",
   "language": "python",
   "name": "python3"
  },
  "language_info": {
   "codemirror_mode": {
    "name": "ipython",
    "version": 3
   },
   "file_extension": ".py",
   "mimetype": "text/x-python",
   "name": "python",
   "nbconvert_exporter": "python",
   "pygments_lexer": "ipython3",
   "version": "3.11.5"
  }
 },
 "nbformat": 4,
 "nbformat_minor": 2
}
